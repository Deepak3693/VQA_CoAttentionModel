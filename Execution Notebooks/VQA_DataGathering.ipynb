{
  "nbformat": 4,
  "nbformat_minor": 0,
  "metadata": {
    "colab": {
      "name": "VQA_DataGathering.ipynb",
      "provenance": [],
      "collapsed_sections": [],
      "authorship_tag": "ABX9TyMGhXN8ZR+CWLjSOc/87vPo",
      "include_colab_link": true
    },
    "kernelspec": {
      "display_name": "Python 3",
      "name": "python3"
    }
  },
  "cells": [
    {
      "cell_type": "markdown",
      "metadata": {
        "id": "view-in-github",
        "colab_type": "text"
      },
      "source": [
        "<a href=\"https://colab.research.google.com/github/Deepak3693/VQA_CoAttentionModel/blob/main/Execution%20Notebooks/VQA_DataGathering.ipynb\" target=\"_parent\"><img src=\"https://colab.research.google.com/assets/colab-badge.svg\" alt=\"Open In Colab\"/></a>"
      ]
    },
    {
      "cell_type": "code",
      "metadata": {
        "id": "3R8rapy8tuaY"
      },
      "source": [
        "#importing packages\n",
        "import pandas as pd\n",
        "import numpy as np\n",
        "import os\n",
        "import tensorflow as tf\n",
        "import json\n",
        "from google.colab import drive"
      ],
      "execution_count": null,
      "outputs": []
    },
    {
      "cell_type": "code",
      "metadata": {
        "colab": {
          "base_uri": "https://localhost:8080/"
        },
        "id": "WsiYxdGTuKmf",
        "outputId": "772401cb-bf0b-482f-99d4-0b200caebd75"
      },
      "source": [
        "#Mounting the drive\r\n",
        "drive.mount('/content/drive/', force_remount=True) "
      ],
      "execution_count": null,
      "outputs": [
        {
          "output_type": "stream",
          "text": [
            "Mounted at /content/drive/\n"
          ],
          "name": "stdout"
        }
      ]
    },
    {
      "cell_type": "code",
      "metadata": {
        "id": "ZPv5Ow0muQ-Y"
      },
      "source": [
        "#Assigning variables which are used in this project\n",
        "currentDirectory = \"/content/drive/My Drive/VQA_Project/\"\n",
        "currentDirectory = currentDirectory + \"Data/\"\n",
        "os.chdir(currentDirectory)\n"
      ],
      "execution_count": null,
      "outputs": []
    },
    {
      "cell_type": "code",
      "metadata": {
        "colab": {
          "base_uri": "https://localhost:8080/",
          "height": 69
        },
        "id": "VzaJOxGeurJN",
        "outputId": "01329166-501c-44dc-c1c4-4917e5ba708e"
      },
      "source": [
        "#Downlaoding and Extracting Images into Train folder\n",
        "os.chdir(currentDirectory + \"Train/\")\n",
        "tf.keras.utils.get_file('train2014.zip', cache_subdir = os.path.abspath('.'), \n",
        "                        origin = 'http://images.cocodataset.org/zips/train2014.zip', extract = True)"
      ],
      "execution_count": null,
      "outputs": [
        {
          "output_type": "stream",
          "text": [
            "Downloading data from http://images.cocodataset.org/zips/train2014.zip\n",
            "13510574080/13510573713 [==============================] - 261s 0us/step\n"
          ],
          "name": "stdout"
        },
        {
          "output_type": "execute_result",
          "data": {
            "application/vnd.google.colaboratory.intrinsic+json": {
              "type": "string"
            },
            "text/plain": [
              "'/content/drive/My Drive/VQA_Project/Data/train2014.zip'"
            ]
          },
          "metadata": {
            "tags": []
          },
          "execution_count": 5
        }
      ]
    },
    {
      "cell_type": "code",
      "metadata": {
        "colab": {
          "base_uri": "https://localhost:8080/",
          "height": 34
        },
        "id": "lW4TGEDQzJfQ",
        "outputId": "354e0f5c-9df6-4005-c4ba-0e2afbe2fd16"
      },
      "source": [
        "# Displaying the total Number Images in COCO Train Dataset\n",
        "os.chdir(currentDirectory + 'Train/train2014/')\n",
        "print(\"Total Number Images in COCO Train Dataset: \",len([name for name in os.listdir()]))"
      ],
      "execution_count": null,
      "outputs": [
        {
          "output_type": "stream",
          "text": [
            "Total Number Images in COCO Train Dataset:  82783\n"
          ],
          "name": "stdout"
        }
      ]
    },
    {
      "cell_type": "code",
      "metadata": {
        "colab": {
          "base_uri": "https://localhost:8080/",
          "height": 69
        },
        "id": "31SuX8ZHzTj2",
        "outputId": "3374b3fd-e7d7-4af0-c86d-5eeabef5b52e"
      },
      "source": [
        "#Downlaoding and Extracting Questions into Train folder\n",
        "os.chdir(currentDirectory + \"Train/\")\n",
        "tf.keras.utils.get_file('v2_Questions_Train_mscoco.zip',cache_subdir=os.path.abspath('.'),\n",
        "                        origin = 'https://s3.amazonaws.com/cvmlp/vqa/mscoco/vqa/v2_Questions_Train_mscoco.zip',extract = True)\n"
      ],
      "execution_count": null,
      "outputs": [
        {
          "output_type": "stream",
          "text": [
            "Downloading data from https://s3.amazonaws.com/cvmlp/vqa/mscoco/vqa/v2_Questions_Train_mscoco.zip\n",
            "7241728/7239401 [==============================] - 0s 0us/step\n"
          ],
          "name": "stdout"
        },
        {
          "output_type": "execute_result",
          "data": {
            "application/vnd.google.colaboratory.intrinsic+json": {
              "type": "string"
            },
            "text/plain": [
              "'/content/drive/My Drive/VQA_Project/Data/train2014/v2_Questions_Train_mscoco.zip'"
            ]
          },
          "metadata": {
            "tags": []
          },
          "execution_count": 7
        }
      ]
    },
    {
      "cell_type": "code",
      "metadata": {
        "colab": {
          "base_uri": "https://localhost:8080/",
          "height": 34
        },
        "id": "VhMOYx4vzXGq",
        "outputId": "fa01a775-8a7d-4ed8-d239-e9413297ac83"
      },
      "source": [
        "# Read the  Questions json file\n",
        "question_file_path = 'v2_OpenEnded_mscoco_train2014_questions.json'\n",
        "with open(question_file_path, 'r') as f:\n",
        "    questions = json.load(f)\n",
        "\n",
        "print(\"Total Number Questions is : \",len(questions['questions']))"
      ],
      "execution_count": null,
      "outputs": [
        {
          "output_type": "stream",
          "text": [
            "Total Number Questions is :  443757\n"
          ],
          "name": "stdout"
        }
      ]
    },
    {
      "cell_type": "code",
      "metadata": {
        "colab": {
          "base_uri": "https://localhost:8080/",
          "height": 34
        },
        "id": "wtSmTRnNzeBt",
        "outputId": "80b68116-c698-4c42-8d37-acfb534e85f0"
      },
      "source": [
        "print(questions['questions'][np.random.randint(0,443757)])"
      ],
      "execution_count": null,
      "outputs": [
        {
          "output_type": "stream",
          "text": [
            "{'image_id': 282158, 'question': 'How many people are here?', 'question_id': 282158021}\n"
          ],
          "name": "stdout"
        }
      ]
    },
    {
      "cell_type": "code",
      "metadata": {
        "colab": {
          "base_uri": "https://localhost:8080/",
          "height": 69
        },
        "id": "MrpU9AIIzi1d",
        "outputId": "d19a9fd8-f34e-4ac9-8382-7ca4f8de1650"
      },
      "source": [
        "#Downlaoding and Extracting annotations\n",
        "tf.keras.utils.get_file('v2_Annotations_Train_mscoco.zip',cache_subdir=os.path.abspath('.'),\n",
        "                        origin = 'https://s3.amazonaws.com/cvmlp/vqa/mscoco/vqa/v2_Annotations_Train_mscoco.zip',extract = True)"
      ],
      "execution_count": null,
      "outputs": [
        {
          "output_type": "stream",
          "text": [
            "Downloading data from https://s3.amazonaws.com/cvmlp/vqa/mscoco/vqa/v2_Annotations_Train_mscoco.zip\n",
            "21716992/21708861 [==============================] - 0s 0us/step\n"
          ],
          "name": "stdout"
        },
        {
          "output_type": "execute_result",
          "data": {
            "application/vnd.google.colaboratory.intrinsic+json": {
              "type": "string"
            },
            "text/plain": [
              "'/content/drive/My Drive/VQA_Project/Data/train2014/v2_Annotations_Train_mscoco.zip'"
            ]
          },
          "metadata": {
            "tags": []
          },
          "execution_count": 10
        }
      ]
    },
    {
      "cell_type": "code",
      "metadata": {
        "id": "mNf1WdJkb6Qx"
      },
      "source": [
        "# Reading annations json file\r\n",
        "annotation_file_path = 'v2_mscoco_train2014_annotations.json'\r\n",
        "with open(annotation_file_path, 'r') as f:\r\n",
        "    annotations = json.load(f)"
      ],
      "execution_count": null,
      "outputs": []
    },
    {
      "cell_type": "code",
      "metadata": {
        "colab": {
          "base_uri": "https://localhost:8080/",
          "height": 269
        },
        "id": "XMoX7GSTzvH9",
        "outputId": "0e62baa8-f823-4431-d0dd-67059f8b8a3f"
      },
      "source": [
        "annotations['annotations'][np.random.randint(0,443757)]"
      ],
      "execution_count": null,
      "outputs": [
        {
          "output_type": "execute_result",
          "data": {
            "text/plain": [
              "{'answer_type': 'other',\n",
              " 'answers': [{'answer': 'dog', 'answer_confidence': 'yes', 'answer_id': 1},\n",
              "  {'answer': 'dog', 'answer_confidence': 'yes', 'answer_id': 2},\n",
              "  {'answer': 'dog', 'answer_confidence': 'yes', 'answer_id': 3},\n",
              "  {'answer': 'dog', 'answer_confidence': 'yes', 'answer_id': 4},\n",
              "  {'answer': 'dog', 'answer_confidence': 'yes', 'answer_id': 5},\n",
              "  {'answer': 'dog', 'answer_confidence': 'yes', 'answer_id': 6},\n",
              "  {'answer': 'dog', 'answer_confidence': 'yes', 'answer_id': 7},\n",
              "  {'answer': 'dog', 'answer_confidence': 'yes', 'answer_id': 8},\n",
              "  {'answer': 'dog', 'answer_confidence': 'yes', 'answer_id': 9},\n",
              "  {'answer': 'dog', 'answer_confidence': 'yes', 'answer_id': 10}],\n",
              " 'image_id': 443460,\n",
              " 'multiple_choice_answer': 'dog',\n",
              " 'question_id': 443460012,\n",
              " 'question_type': 'what kind of'}"
            ]
          },
          "metadata": {
            "tags": []
          },
          "execution_count": 12
        }
      ]
    },
    {
      "cell_type": "code",
      "metadata": {
        "colab": {
          "base_uri": "https://localhost:8080/",
          "height": 69
        },
        "id": "bwQ26jRLHwyp",
        "outputId": "b80bdfdb-0120-4fb9-dd24-ba25ef705d18"
      },
      "source": [
        "#Downlaoding and Extrcating Images into Validation folder\n",
        "os.chdir(currentDirectory + \"Validation/\")\n",
        "tf.keras.utils.get_file('train2014.zip', cache_subdir = os.path.abspath('.'), \n",
        "                        origin = 'http://images.cocodataset.org/zips/val2014.zip', extract = True)"
      ],
      "execution_count": null,
      "outputs": [
        {
          "output_type": "stream",
          "text": [
            "Downloading data from http://images.cocodataset.org/zips/val2014.zip\n",
            "6645014528/6645013297 [==============================] - 395s 0us/step\n"
          ],
          "name": "stdout"
        },
        {
          "output_type": "execute_result",
          "data": {
            "application/vnd.google.colaboratory.intrinsic+json": {
              "type": "string"
            },
            "text/plain": [
              "'/content/drive/My Drive/VQA_Project/Data/Validation/train2014.zip'"
            ]
          },
          "metadata": {
            "tags": []
          },
          "execution_count": 6
        }
      ]
    },
    {
      "cell_type": "code",
      "metadata": {
        "colab": {
          "base_uri": "https://localhost:8080/",
          "height": 34
        },
        "id": "OK6IAbqZL_GV",
        "outputId": "09e11e09-c716-4421-847e-df441087de03"
      },
      "source": [
        "# Displaying total Number of Images in COCO Validation Dataset\n",
        "os.chdir(currentDirectory + 'Validation/val2014/')\n",
        "print(\"Total Number Images in COCO Validation Dataset: \",len([name for name in os.listdir()]))"
      ],
      "execution_count": null,
      "outputs": [
        {
          "output_type": "stream",
          "text": [
            "Total Number Images in COCO Validation Dataset:  40504\n"
          ],
          "name": "stdout"
        }
      ]
    },
    {
      "cell_type": "code",
      "metadata": {
        "colab": {
          "base_uri": "https://localhost:8080/",
          "height": 69
        },
        "id": "asfSE4uxOKhS",
        "outputId": "927aa1c1-3114-4365-97cf-82a8c9a8a19f"
      },
      "source": [
        "#Downlaoding and Extracting Questions into Validation folder\n",
        "os.chdir(currentDirectory + \"Validation/\")\n",
        "tf.keras.utils.get_file('v2_Questions_Val_mscoco.zip',cache_subdir=os.path.abspath('.'),\n",
        "                        origin = 'https://s3.amazonaws.com/cvmlp/vqa/mscoco/vqa/v2_Questions_Val_mscoco.zip',extract = True)"
      ],
      "execution_count": null,
      "outputs": [
        {
          "output_type": "stream",
          "text": [
            "Downloading data from https://s3.amazonaws.com/cvmlp/vqa/mscoco/vqa/v2_Questions_Val_mscoco.zip\n",
            "3497984/3494929 [==============================] - 1s 0us/step\n"
          ],
          "name": "stdout"
        },
        {
          "output_type": "execute_result",
          "data": {
            "application/vnd.google.colaboratory.intrinsic+json": {
              "type": "string"
            },
            "text/plain": [
              "'/content/drive/My Drive/VQA_Project/Data/Validation/v2_Questions_Val_mscoco.zip'"
            ]
          },
          "metadata": {
            "tags": []
          },
          "execution_count": 9
        }
      ]
    },
    {
      "cell_type": "code",
      "metadata": {
        "colab": {
          "base_uri": "https://localhost:8080/",
          "height": 34
        },
        "id": "5PcbSfC4N7xF",
        "outputId": "5a86d6d8-802b-434b-b0f2-a985497d7fad"
      },
      "source": [
        "# read the validations question json file\n",
        "val_question_file_path = 'v2_OpenEnded_mscoco_val2014_questions.json'\n",
        "with open(val_question_file_path, 'r') as f:\n",
        "    val_questions = json.load(f)\n",
        "\n",
        "print(\"Total Number Questions is : \",len(val_questions['questions']))"
      ],
      "execution_count": null,
      "outputs": [
        {
          "output_type": "stream",
          "text": [
            "Total Number Questions is :  214354\n"
          ],
          "name": "stdout"
        }
      ]
    },
    {
      "cell_type": "code",
      "metadata": {
        "colab": {
          "base_uri": "https://localhost:8080/",
          "height": 34
        },
        "id": "4RmClDxdPlP4",
        "outputId": "9846fd95-93bb-49a2-d8fb-c1351b50b9b8"
      },
      "source": [
        "print(val_questions['questions'][np.random.randint(0,443757)])"
      ],
      "execution_count": null,
      "outputs": [
        {
          "output_type": "stream",
          "text": [
            "{'image_id': 512667, 'question': 'What is the lady holding in her hand?', 'question_id': 512667001}\n"
          ],
          "name": "stdout"
        }
      ]
    },
    {
      "cell_type": "code",
      "metadata": {
        "colab": {
          "base_uri": "https://localhost:8080/",
          "height": 69
        },
        "id": "59u0aTfNPtIj",
        "outputId": "b569fe2d-52d9-4b04-dd41-5e747c4dce51"
      },
      "source": [
        "#Downlaoding and Extracting annotations\n",
        "tf.keras.utils.get_file('v2_Annotations_Val_mscoco.zip',cache_subdir=os.path.abspath('.'),\n",
        "                        origin = 'https://s3.amazonaws.com/cvmlp/vqa/mscoco/vqa/v2_Annotations_Val_mscoco.zip',extract = True)"
      ],
      "execution_count": null,
      "outputs": [
        {
          "output_type": "stream",
          "text": [
            "Downloading data from https://s3.amazonaws.com/cvmlp/vqa/mscoco/vqa/v2_Annotations_Val_mscoco.zip\n",
            "10526720/10518930 [==============================] - 2s 0us/step\n"
          ],
          "name": "stdout"
        },
        {
          "output_type": "execute_result",
          "data": {
            "application/vnd.google.colaboratory.intrinsic+json": {
              "type": "string"
            },
            "text/plain": [
              "'/content/drive/My Drive/VQA_Project/Data/Validation/v2_Annotations_Val_mscoco.zip'"
            ]
          },
          "metadata": {
            "tags": []
          },
          "execution_count": 13
        }
      ]
    },
    {
      "cell_type": "code",
      "metadata": {
        "id": "DOzS_-x2QDA3"
      },
      "source": [
        "# Reading the validation annotations json file\n",
        "val_annotation_file_path = 'v2_mscoco_val2014_annotations.json'\n",
        "with open(val_annotation_file_path, 'r') as f:\n",
        "    val_annotations = json.load(f)"
      ],
      "execution_count": null,
      "outputs": []
    },
    {
      "cell_type": "code",
      "metadata": {
        "colab": {
          "base_uri": "https://localhost:8080/",
          "height": 269
        },
        "id": "oe1-0dgKQS1D",
        "outputId": "ceb93fb2-9ffb-4ae3-95a8-dbd14430d358"
      },
      "source": [
        "val_annotations['annotations'][np.random.randint(0,443757)]"
      ],
      "execution_count": null,
      "outputs": [
        {
          "output_type": "execute_result",
          "data": {
            "text/plain": [
              "{'answer_type': 'yes/no',\n",
              " 'answers': [{'answer': 'no', 'answer_confidence': 'yes', 'answer_id': 1},\n",
              "  {'answer': 'no', 'answer_confidence': 'yes', 'answer_id': 2},\n",
              "  {'answer': 'no', 'answer_confidence': 'yes', 'answer_id': 3},\n",
              "  {'answer': 'maybe', 'answer_confidence': 'maybe', 'answer_id': 4},\n",
              "  {'answer': 'no', 'answer_confidence': 'maybe', 'answer_id': 5},\n",
              "  {'answer': 'ducks', 'answer_confidence': 'yes', 'answer_id': 6},\n",
              "  {'answer': 'no', 'answer_confidence': 'yes', 'answer_id': 7},\n",
              "  {'answer': 'no', 'answer_confidence': 'yes', 'answer_id': 8},\n",
              "  {'answer': 'no', 'answer_confidence': 'yes', 'answer_id': 9},\n",
              "  {'answer': 'no', 'answer_confidence': 'yes', 'answer_id': 10}],\n",
              " 'image_id': 17260,\n",
              " 'multiple_choice_answer': 'no',\n",
              " 'question_id': 17260003,\n",
              " 'question_type': 'are these'}"
            ]
          },
          "metadata": {
            "tags": []
          },
          "execution_count": 21
        }
      ]
    },
    {
      "cell_type": "code",
      "metadata": {
        "colab": {
          "base_uri": "https://localhost:8080/",
          "height": 69
        },
        "id": "Z4c9GZe_T85P",
        "outputId": "d0d513b8-0fd7-483f-fca1-8f3f8fe3d678"
      },
      "source": [
        "#Downlaoding and Extrcating Images into Test folder\n",
        "os.chdir(currentDirectory + \"Test/\")\n",
        "tf.keras.utils.get_file('test2015.zip', cache_subdir = os.path.abspath('.'), \n",
        "                        origin = 'http://images.cocodataset.org/zips/test2015.zip', extract = True)"
      ],
      "execution_count": null,
      "outputs": [
        {
          "output_type": "stream",
          "text": [
            "Downloading data from http://images.cocodataset.org/zips/test2015.zip\n",
            "13270589440/13270587935 [==============================] - 825s 0us/step\n"
          ],
          "name": "stdout"
        },
        {
          "output_type": "execute_result",
          "data": {
            "application/vnd.google.colaboratory.intrinsic+json": {
              "type": "string"
            },
            "text/plain": [
              "'/content/drive/My Drive/VQA_Project/Data/Test/test2015.zip'"
            ]
          },
          "metadata": {
            "tags": []
          },
          "execution_count": 22
        }
      ]
    },
    {
      "cell_type": "code",
      "metadata": {
        "colab": {
          "base_uri": "https://localhost:8080/",
          "height": 34
        },
        "id": "PY90lenMgfU3",
        "outputId": "6e4706ce-c3a9-4bde-fc7f-07d9b3ebc4fa"
      },
      "source": [
        "# Displaying Total Number of Images in COCO Train Dataset\n",
        "os.chdir(currentDirectory + 'Test/test2015/')\n",
        "print(\"Total Number Images in COCO Train Dataset: \",len([name for name in os.listdir()]))"
      ],
      "execution_count": null,
      "outputs": [
        {
          "output_type": "stream",
          "text": [
            "Total Number Images in COCO Train Dataset:  81434\n"
          ],
          "name": "stdout"
        }
      ]
    },
    {
      "cell_type": "code",
      "metadata": {
        "colab": {
          "base_uri": "https://localhost:8080/",
          "height": 69
        },
        "id": "T8SNaYzQygl3",
        "outputId": "2e057a9e-429b-4347-d88a-cadbeba85521"
      },
      "source": [
        "#Downlaoding and Extracting Questions into Validation folder\n",
        "os.chdir(currentDirectory + \"Test/\")\n",
        "tf.keras.utils.get_file('v2_Questions_Test_mscoco.zip',cache_subdir=os.path.abspath('.'),\n",
        "                        origin = 'https://s3.amazonaws.com/cvmlp/vqa/mscoco/vqa/v2_Questions_Test_mscoco.zip',extract = True)"
      ],
      "execution_count": null,
      "outputs": [
        {
          "output_type": "stream",
          "text": [
            "Downloading data from https://s3.amazonaws.com/cvmlp/vqa/mscoco/vqa/v2_Questions_Test_mscoco.zip\n",
            "8970240/8966943 [==============================] - 2s 0us/step\n"
          ],
          "name": "stdout"
        },
        {
          "output_type": "execute_result",
          "data": {
            "application/vnd.google.colaboratory.intrinsic+json": {
              "type": "string"
            },
            "text/plain": [
              "'/content/drive/My Drive/VQA_Project/Data/Test/v2_Questions_Test_mscoco.zip'"
            ]
          },
          "metadata": {
            "tags": []
          },
          "execution_count": 25
        }
      ]
    },
    {
      "cell_type": "code",
      "metadata": {
        "colab": {
          "base_uri": "https://localhost:8080/",
          "height": 34
        },
        "id": "qww45bH0yyez",
        "outputId": "18c21c22-e65e-4880-eca4-83ed3e790b75"
      },
      "source": [
        "# read the questions json file\n",
        "test_question_file_path = 'v2_OpenEnded_mscoco_test2015_questions.json'\n",
        "with open(test_question_file_path, 'r') as f:\n",
        "    test_questions = json.load(f)\n",
        "\n",
        "print(\"Total Number Questions is : \",len(test_questions['questions']))"
      ],
      "execution_count": null,
      "outputs": [
        {
          "output_type": "stream",
          "text": [
            "Total Number Questions is :  447793\n"
          ],
          "name": "stdout"
        }
      ]
    },
    {
      "cell_type": "code",
      "metadata": {
        "colab": {
          "base_uri": "https://localhost:8080/",
          "height": 34
        },
        "id": "hDZ-VNfLzAuF",
        "outputId": "c7b49ed2-3ce2-4525-9847-c8790c48ab83"
      },
      "source": [
        "print(test_questions['questions'][np.random.randint(0,443757)])"
      ],
      "execution_count": null,
      "outputs": [
        {
          "output_type": "stream",
          "text": [
            "{'image_id': 325285, 'question': 'Is a gnome visible?', 'question_id': 325285001}\n"
          ],
          "name": "stdout"
        }
      ]
    },
    {
      "cell_type": "code",
      "metadata": {
        "id": "2HpUMlKLzz0K"
      },
      "source": [
        "drive.flush_and_unmount()"
      ],
      "execution_count": null,
      "outputs": []
    }
  ]
}